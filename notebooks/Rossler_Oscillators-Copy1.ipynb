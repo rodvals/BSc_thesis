{
 "cells": [
  {
   "cell_type": "code",
   "execution_count": 1,
   "id": "386760c7",
   "metadata": {},
   "outputs": [
    {
     "name": "stdout",
     "output_type": "stream",
     "text": [
      "0.9.10\n"
     ]
    }
   ],
   "source": [
    "import matplotlib.pyplot as plt\n",
    "import random\n",
    "import numpy as np\n",
    "import copy\n",
    "#import networkx as nx\n",
    "import scipy\n",
    "from scipy.integrate import odeint\n",
    "import seaborn as sns\n",
    "import igraph as ig\n",
    "from matplotlib import animation\n",
    "%matplotlib inline \n",
    "print(ig.__version__)"
   ]
  },
  {
   "cell_type": "code",
   "execution_count": null,
   "id": "4dd1b512",
   "metadata": {},
   "outputs": [],
   "source": [
    "def motion(q_0, t_span, omegas, K, N, adj):\n",
    "    s1 = odeint(func= kuramoto_1, y0 = q_0, t=t_span, args=(omegas, K, N, adj) )\n",
    "    q = s1[:,::]\n",
    "    dq = np.zeros(np.shape(q))\n",
    "    for i in range(len(t_span)):\n",
    "        dq[i] = kuramoto_1(q[i], t_span[i], omegas, K, N, adj)\n",
    "    return q, dq\n",
    "\n",
    "\n",
    "def rossler(_q, _t, _a, _b, _c, _r, _sigma, _N, _adj):\n",
    "    _dq = np.zeros(np.shape(_q))\n",
    "    x, y, z = _q[0::3], _q[1::3], _q[2::3]\n",
    "    dx, dy, dz = _dq[0::3], _dq[1::3], _dq[2::3]\n",
    "    \n",
    "    # N nodi della rete\n",
    "    for i in range(_N):\n",
    "        dx[i] =  -y[i] - z[i] + _sigma/(2*_r*_N) * np.sum( _adj[i] * (x - x[i]) )\n",
    "        dy[i] =  x[i] + _a*y[i] + _sigma/(2*_r*_N) * np.sum( _adj[i] * (y - y[i]) )\n",
    "        dz[i] =  _b + z[i]*(x[i] - _c) + _sigma/(2*_r*_N) * np.sum( _adj[i] * (z - z[i]) )\n",
    "            \n",
    "    return _dq\n",
    "    \n",
    "\n",
    "def r_parameter(_q, _N):\n",
    "    _r = np.abs( np.sum( np.exp(np.cdouble(_q)*1j) / _N ))\n",
    "    return _r\n",
    "\n",
    "def r_mean_parameter(_q_0, _t_span, _omegas, _K , _N, _adj):\n",
    "    _r_mean = 0\n",
    "    _q, _dq = motion( _q_0, _t_span, _omegas, _K, _N, _adj)\n",
    "    for t_count in range(len(_t_span)):\n",
    "        _r_mean += r_parameter(_q[t_count,:], _N)\n",
    "    #media\n",
    "    _r_mean *= 1./len(t_span)\n",
    "    return _r_mean"
   ]
  },
  {
   "cell_type": "code",
   "execution_count": null,
   "id": "a6c63a38",
   "metadata": {},
   "outputs": [],
   "source": [
    "random.seed(0)\n",
    "\n",
    "# parameters model \n",
    "N = 2\n",
    "\n",
    "# initial conditions\n",
    "q_0 = np.random.rand(3*N)*100\n",
    "\n",
    "# simulation \n",
    "dt = 0.0001\n",
    "t_max = 5 \n",
    "t_span = np.arange(0, t_max, dt)\n",
    "\n",
    "a = 0.2\n",
    "b = 0.2\n",
    "c = 5.7\n",
    "r = 1\n",
    "sigma = 1\n",
    "\n",
    "# network parameters\n",
    "p = 1 \n",
    "k = 3"
   ]
  },
  {
   "cell_type": "code",
   "execution_count": null,
   "id": "3f47c320",
   "metadata": {},
   "outputs": [],
   "source": [
    "# name_graph = \"Watts Strogatz : n = {} k = {} p = {}\".format(N, k, p)\n",
    "name_graph = \"Erdos Renyi : n = {} p = {}\".format(N, k, p)\n",
    "graph = ig.Graph.Erdos_Renyi(n=N, p=p, directed=False, loops=False)\n",
    "# g_watts_strogatz = ig.Graph.Watts_Strogatz(dim = 1, size = 20, nei = 1, p = 0.2)\n",
    "# g_barabasi_albert = ig.Graph.Barabasi(n = N, m = 2 )\n",
    "ig.plot(graph, layout='layout_grid')\n",
    "adj = graph.get_adjacency()\n",
    "plt.show()"
   ]
  },
  {
   "cell_type": "code",
   "execution_count": null,
   "id": "b859563b",
   "metadata": {},
   "outputs": [],
   "source": [
    "# integrate dynamics \n",
    "sol = odeint(func= rossler, y0 = q_0, t=t_span, args=(a, b, c, r, sigma, N, adj) )"
   ]
  },
  {
   "cell_type": "code",
   "execution_count": null,
   "id": "ed8ecc3f",
   "metadata": {
    "scrolled": true
   },
   "outputs": [],
   "source": [
    "# plot coordinates\n",
    "plt.close('all')\n",
    "#new figure to plot network graphs\n",
    "fig = plt.figure(figsize = (9, 9) )\n",
    "fig.suptitle(\"Rossler Oscillator N = {5} with parameters: \\n a = {0:.6g} b = {1:.6g} c = {2:.6g} r = {3:.6g} sigma = {4:.6g}\".format(a, b, c, r, sigma, N))\n",
    "axs_xy = fig.add_subplot(2,2,1)\n",
    "axs_xy.set(xlabel=\"x\", ylabel=\"y\", title= \"XY plot\")\n",
    "plt.plot(sol[:,0::3][::100], sol[:,1::3][::100])\n",
    "\n",
    "axs_network = fig.add_subplot(2,2,2)\n",
    "ig.plot(graph, target = axs_network)\n",
    "#axs_network.set(title=\"Erdos-Renyi: p = {}, N = {}\".format(p, N))\n",
    "axs_network.set(title=name_graph)\n",
    "\n",
    "axs_xz = fig.add_subplot(2, 2, 3)\n",
    "plt.plot(sol[:,0::3][::100], sol[:,2::3][::100])\n",
    "axs_xz.set(xlabel=\"x\", ylabel=\"z\", title= \"XZ plot\")\n",
    "\n",
    "axs_yz = fig.add_subplot(2, 2, 4)\n",
    "plt.plot(sol[:,1::3][::100], sol[:,2::3][::100])\n",
    "axs_yz.set(xlabel=\"y\", ylabel=\"z\", title= \"YZ plot\")\n",
    "\n",
    "plt.show()"
   ]
  },
  {
   "cell_type": "code",
   "execution_count": null,
   "id": "c9a64dd0",
   "metadata": {},
   "outputs": [],
   "source": [
    "# plot time vs axis\n",
    "fig = plt.figure(figsize = (9, 9) )\n",
    "fig.suptitle(\"Rossler Oscillator N = {5} with parameters: \\n a = {0:.6g} b = {1:.6g} c = {2:.6g} r = {3:.6g} sigma = {4:.6g}\".format(a, b, c, r, sigma, N))\n",
    "axs_xt = fig.add_subplot(2,2,1)\n",
    "axs_xt.set(xlabel=\"x\", ylabel=\"t\", title= \"t X plot\")\n",
    "plt.plot(t_span[::100], sol[:,0::3][::100])\n",
    "\n",
    "axs_network = fig.add_subplot(2,2,2)\n",
    "ig.plot(graph, target = axs_network)\n",
    "axs_network.set(title=name_graph)\n",
    "\n",
    "axs_yt = fig.add_subplot(2, 2, 3)\n",
    "plt.plot(t_span[::100], sol[:,1::3][::100])\n",
    "axs_yt.set(xlabel=\"t\", ylabel=\"y\", title= \"tY plot\")\n",
    "\n",
    "axs_zt = fig.add_subplot(2, 2, 4)\n",
    "plt.plot(t_span[::100], sol[:,2::3][::100])\n",
    "axs_zt.set(xlabel=\"t\", ylabel=\"z\", title= \"tZ plot\")\n",
    "\n",
    "plt.show()"
   ]
  },
  {
   "cell_type": "code",
   "execution_count": null,
   "id": "402e011d",
   "metadata": {},
   "outputs": [],
   "source": [
    "def plot_network(count, v_size, t_span, network, ax_plot):\n",
    "    count = int(count)\n",
    "    # take the size of the vertex from the x coordinate\n",
    "#    print(v_size)\n",
    "    # the color \n",
    "    ax_plot.clear()\n",
    "#    layout = \"fruchterman_reingold\"\n",
    "    layout = \"grid\"\n",
    "    ig.plot(network, target = ax_plot, bbox=(0, 0, 100, 100),\n",
    "            layout=layout,        \n",
    "            edge_width=1,\n",
    "            edge_arrow_size = 1,\n",
    "            vertex_size=10 ,\n",
    "          \n",
    "            vertex_color=['red'], \n",
    "            vertex_frame_color='black',\n",
    "            vertex_frame_width=1000,\n",
    "            edge_color = 'black',\n",
    "           # vertex_shape = 'triangle',\n",
    "            keep_aspect_ratio=True\n",
    "#            vertex_label=['first', 'second', 'third', 'fourth'],\n",
    "#            edge_width=[1, 4],\n",
    "#            edge_color=['black', 'grey'],\n",
    "            )\n",
    "def plot_init():\n",
    "    return"
   ]
  },
  {
   "cell_type": "code",
   "execution_count": null,
   "id": "f50a36e7",
   "metadata": {
    "scrolled": true
   },
   "outputs": [],
   "source": [
    "plt.close('all')\n",
    "fig_anim = plt.figure(figsize = (9, 9))\n",
    "ax_animation = fig_anim.add_subplot(1, 1, 1)\n",
    "#axes_animation.set_xlim(np.max(np.abs(sol[:, 0::3])))\n",
    "#axes_animation.set_ylim(np.max(np.abs(sol[:, 0::3])))\n",
    "fps = 10\n",
    "t_start = 0\n",
    "q = np.linspace(0, len(t_span) - 1, t_max*fps)\n",
    "size_t = np.abs(sol[:, 0::3])\n",
    "frames = np.linspace(0, len(t_span) - 1, t_max*fps)\n",
    "anim = animation.FuncAnimation(fig_anim, func = plot_network, interval = 1000/fps , frames = frames  , fargs = (size_t, t_span, graph, ax_animation), init_func=plot_init)\n",
    "anim.save(\"prova.mp4\")\n",
    "#animate_network(fig_anim, 0, sol, t_span, graph)"
   ]
  },
  {
   "cell_type": "code",
   "execution_count": null,
   "id": "a4e6503d",
   "metadata": {},
   "outputs": [],
   "source": [
    "plt.close('all')\n",
    "f = plt.figure(figsize = (9, 9))\n",
    "a = f.add_subplot(1, 1, 1)\n",
    "a.clear()\n",
    "size_t = np.abs(sol[:, 0::3])/3\n",
    "plot_network(0, size_t, t_span, graph, a)\n",
    "plt.show()"
   ]
  },
  {
   "cell_type": "code",
   "execution_count": null,
   "id": "fc84ff25",
   "metadata": {},
   "outputs": [],
   "source": []
  }
 ],
 "metadata": {
  "kernelspec": {
   "display_name": "Python 3 (ipykernel)",
   "language": "python",
   "name": "python3"
  },
  "language_info": {
   "codemirror_mode": {
    "name": "ipython",
    "version": 3
   },
   "file_extension": ".py",
   "mimetype": "text/x-python",
   "name": "python",
   "nbconvert_exporter": "python",
   "pygments_lexer": "ipython3",
   "version": "3.9.12"
  }
 },
 "nbformat": 4,
 "nbformat_minor": 5
}
